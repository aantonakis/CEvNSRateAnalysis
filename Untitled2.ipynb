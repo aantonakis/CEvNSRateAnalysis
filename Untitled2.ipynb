{
 "cells": [
  {
   "cell_type": "code",
   "execution_count": null,
   "id": "18864013-43ad-4d1e-8d9c-308c59481c74",
   "metadata": {},
   "outputs": [],
   "source": [
    "import ROOT\n",
    "import numpy as np\n",
    "import sys\n",
    "import matplotlib.pyplot as plt\n",
    "from matplotlib.colors import LogNorm\n",
    "import math\n",
    "\n",
    "from scipy.integrate import dblquad\n",
    "\n",
    "sys.path.append('/Users/alexanderantonakis/Desktop/Software/CEvNS_RATES/Classes')\n",
    "from snsgen import SNSGen\n",
    "\n",
    "print(\"Finished importing\")"
   ]
  },
  {
   "cell_type": "code",
   "execution_count": null,
   "id": "cbfb3667-2eaf-4220-8a60-840c5f12b062",
   "metadata": {},
   "outputs": [],
   "source": [
    "\n",
    "def make_track(E):\n",
    "    w = 15.76*(1/1000)\n",
    "    x = []\n",
    "    y = []\n",
    "    z = []\n",
    "    #pos = []\n",
    "    #Edep = []\n",
    "    start = 1\n",
    "    curr_position = [0, 0, 0]\n",
    "    #pos.append(curr_position)\n",
    "    while(E > w):\n",
    "        dL = np.random.uniform() # maybe mm\n",
    "        dE = np.random.uniform()*(0.3*E)        \n",
    "        E -= dE\n",
    "        N = int(dE/w) # number of ionization electrons produced at this step\n",
    "\n",
    "        # the displacements of the N electrons\n",
    "        dx = np.random.uniform(size=N)\n",
    "        dy = np.random.uniform(size=N)\n",
    "        dz = np.random.uniform(size=N)\n",
    "        \n",
    "        for num in range(N):\n",
    "            x.append(curr_position[0]+dx[num])\n",
    "            y.append(curr_position[1]+dy[num])\n",
    "            z.append(curr_position[2]+dz[num])\n",
    "        \n",
    "        if start:\n",
    "            # Z-direction is the initial recoil direction\n",
    "            curr_position[2] += dL\n",
    "            start = 0\n",
    "        else:\n",
    "            r = np.random.uniform(size=3)*dL\n",
    "            curr_position[0] += r[0]\n",
    "            curr_position[1] += r[1]\n",
    "            curr_position[2] += r[2]\n",
    "            \n",
    "    return (x, y, z)\n",
    "\n",
    "\n",
    "\n",
    "test_track = make_track(100)\n",
    "print(\"Done\")"
   ]
  },
  {
   "cell_type": "code",
   "execution_count": null,
   "id": "80464882-0e7a-49f2-b5b6-2ab70837a03a",
   "metadata": {},
   "outputs": [],
   "source": [
    "\n",
    "print(len(test_track[0]))\n",
    "print(len(test_track[1]))\n",
    "\n",
    "\n",
    "plt.scatter(test_track[0], test_track[1])\n",
    "plt.show()"
   ]
  },
  {
   "cell_type": "code",
   "execution_count": null,
   "id": "e145a172-1218-4e25-a6fe-4c0cd3b1e049",
   "metadata": {},
   "outputs": [],
   "source": [
    "from mpl_toolkits.mplot3d import Axes3D\n",
    "\n",
    "\n",
    "\n",
    "# Create a 3D scatter plot\n",
    "fig = plt.figure(figsize=(8, 6))\n",
    "ax = fig.add_subplot(111, projection='3d')\n",
    "\n",
    "# Scatter plot\n",
    "scatter = ax.scatter(test_track[0], test_track[1], test_track[2], c=test_track[2], cmap='viridis', s=50, edgecolor='k')\n",
    "\n",
    "# Labels and title\n",
    "ax.set_xlabel('X-axis')\n",
    "ax.set_ylabel('Y-axis')\n",
    "ax.set_zlabel('Z-axis')\n",
    "ax.set_title('3D Scatter Plot')\n",
    "\n",
    "# Add a colorbar\n",
    "#cbar = plt.colorbar(scatter, ax=ax, shrink=0.6)\n",
    "#cbar.set_label('Color intensity')\n",
    "\n",
    "# Show plot\n",
    "plt.show()\n"
   ]
  },
  {
   "cell_type": "code",
   "execution_count": null,
   "id": "277e18f5-fa5b-4e06-87d6-7547b838878d",
   "metadata": {},
   "outputs": [],
   "source": [
    "h_i = ROOT.TH3D()\n",
    "\n"
   ]
  }
 ],
 "metadata": {
  "kernelspec": {
   "display_name": "pyROOT_3.9_env",
   "language": "python",
   "name": "pyroot_3.9_env"
  },
  "language_info": {
   "codemirror_mode": {
    "name": "ipython",
    "version": 3
   },
   "file_extension": ".py",
   "mimetype": "text/x-python",
   "name": "python",
   "nbconvert_exporter": "python",
   "pygments_lexer": "ipython3",
   "version": "3.9.17"
  }
 },
 "nbformat": 4,
 "nbformat_minor": 5
}
