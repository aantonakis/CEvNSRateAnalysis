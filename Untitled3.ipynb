{
 "cells": [
  {
   "cell_type": "code",
   "execution_count": null,
   "id": "3dcc9ce6-e2ee-4377-992e-968eb7693e0a",
   "metadata": {},
   "outputs": [],
   "source": [
    "t1 = 0.3 - 35/1000\n",
    "t2 = 1.9 + 65/1000\n",
    "\n",
    "print(t1)\n",
    "print(t2)\n"
   ]
  },
  {
   "cell_type": "code",
   "execution_count": null,
   "id": "fdccd674-2e9a-4e1d-b51c-d4156285111a",
   "metadata": {},
   "outputs": [],
   "source": [
    "t1 = 0.4 - 35/1000\n",
    "t2 = 2 + 65/1000\n",
    "\n",
    "print(t1)\n",
    "print(t2)"
   ]
  },
  {
   "cell_type": "code",
   "execution_count": null,
   "id": "e687d916-5ef7-4e1a-92c5-e87475f92b4b",
   "metadata": {},
   "outputs": [],
   "source": [
    "t1 = -1.1 - (35/1000)\n",
    "t2 = (-1.1+1.6) + 65/1000\n",
    "\n",
    "print(t1)\n",
    "print(t2)"
   ]
  },
  {
   "cell_type": "code",
   "execution_count": null,
   "id": "d73594ae-eb2f-411d-a527-81cb902f9790",
   "metadata": {},
   "outputs": [],
   "source": [
    "(10/(3*10**8))*10**9"
   ]
  },
  {
   "cell_type": "code",
   "execution_count": null,
   "id": "ff5e2620-267e-4fbe-8e56-0566ffb9cef4",
   "metadata": {},
   "outputs": [],
   "source": []
  }
 ],
 "metadata": {
  "kernelspec": {
   "display_name": "pyROOT_3.9_env",
   "language": "python",
   "name": "pyroot_3.9_env"
  },
  "language_info": {
   "codemirror_mode": {
    "name": "ipython",
    "version": 3
   },
   "file_extension": ".py",
   "mimetype": "text/x-python",
   "name": "python",
   "nbconvert_exporter": "python",
   "pygments_lexer": "ipython3",
   "version": "3.9.17"
  }
 },
 "nbformat": 4,
 "nbformat_minor": 5
}
